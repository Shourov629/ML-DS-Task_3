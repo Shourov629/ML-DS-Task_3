{
 "cells": [
  {
   "cell_type": "markdown",
   "id": "85678505",
   "metadata": {},
   "source": [
    "### 1. Keep the first, middle, and last characters of an input string."
   ]
  },
  {
   "cell_type": "code",
   "execution_count": 8,
   "id": "ede7ae76",
   "metadata": {},
   "outputs": [
    {
     "name": "stdout",
     "output_type": "stream",
     "text": [
      "Enter any string : Hey What's Up\n",
      "Hap\n"
     ]
    }
   ],
   "source": [
    "def keep_first_mid_last(input_str):\n",
    "    l = int(len(input_str))\n",
    "    mid = int(l / 2)\n",
    "    if l < 3:\n",
    "        return input_str\n",
    "    elif l % 2 == 0:\n",
    "        return input_str[0] + input_str[mid-1] + input_str[mid] + input_str[l-1]\n",
    "    else:\n",
    "        return input_str[0] + input_str[mid] + input_str[l-1]\n",
    "    \n",
    "string = input(\"Enter any string : \")\n",
    "result = keep_first_mid_last(string)\n",
    "print(result)"
   ]
  },
  {
   "cell_type": "markdown",
   "id": "8abc0375",
   "metadata": {},
   "source": [
    "### 2. Arrange string characters such that lowercase letters should come first.\n"
   ]
  },
  {
   "cell_type": "code",
   "execution_count": 16,
   "id": "0b4e2549",
   "metadata": {},
   "outputs": [
    {
     "name": "stdout",
     "output_type": "stream",
     "text": [
      "Enter any string : alhgAKSHgbkjd\n",
      "lkjhggdbaSKHA\n"
     ]
    }
   ],
   "source": [
    "string = input(\"Enter any string : \")\n",
    "li = []\n",
    "for i in range(len(string)):\n",
    "    li.append(ord(string[i]))\n",
    "    \n",
    "li.sort(reverse = True)\n",
    "ch_li = []\n",
    "for i in range(len(string)):\n",
    "    ch_li.append(chr(li[i]))\n",
    "\n",
    "out_str = \"\"\n",
    "for i in range(len(string)):\n",
    "    out_str += ch_li[i]\n",
    "print(out_str)"
   ]
  },
  {
   "cell_type": "markdown",
   "id": "57a6ab97",
   "metadata": {},
   "source": [
    "### 3. Count all letters, digits, and special symbols from a given string."
   ]
  },
  {
   "cell_type": "code",
   "execution_count": 21,
   "id": "fdef4ffd",
   "metadata": {},
   "outputs": [
    {
     "name": "stdout",
     "output_type": "stream",
     "text": [
      "Enter any string : P@#yn26at^&i5ve\n",
      "Chars :  8\n",
      "Digits :  3\n",
      "Symbol :  4\n"
     ]
    }
   ],
   "source": [
    "input_str = input(\"Enter any string : \")\n",
    "ch = 0\n",
    "dig = 0\n",
    "letr = 0\n",
    "length = len(input_str)\n",
    "for i in range(length):\n",
    "    if input_str[i].isalpha():\n",
    "        letr += 1\n",
    "    elif input_str[i].isdigit():\n",
    "        dig += 1\n",
    "    else:\n",
    "        ch += 1\n",
    "\n",
    "print(\"Chars : \", letr)\n",
    "print(\"Digits : \", dig)\n",
    "print(\"Symbol : \", ch)"
   ]
  },
  {
   "cell_type": "markdown",
   "id": "c6cd0419",
   "metadata": {},
   "source": [
    "### 4. Split a string on hyphens."
   ]
  },
  {
   "cell_type": "code",
   "execution_count": 22,
   "id": "37176af8",
   "metadata": {},
   "outputs": [
    {
     "name": "stdout",
     "output_type": "stream",
     "text": [
      "Enter any string : Hey-guys-whst's-up\n",
      "['Hey', 'guys', \"whst's\", 'up']\n"
     ]
    }
   ],
   "source": [
    "lst = list(input(\"Enter any string : \").split(\"-\"))\n",
    "print(lst)"
   ]
  },
  {
   "cell_type": "markdown",
   "id": "d8ff9316",
   "metadata": {},
   "source": [
    "### 5. Reverse a given string.\n"
   ]
  },
  {
   "cell_type": "code",
   "execution_count": 27,
   "id": "37f422d0",
   "metadata": {},
   "outputs": [
    {
     "name": "stdout",
     "output_type": "stream",
     "text": [
      "Enter any string : Hey Guys What's Up?\n",
      "?pU s'tahW syuG yeH\n"
     ]
    }
   ],
   "source": [
    "input_str = input(\"Enter any string : \")\n",
    "length = len(input_str)\n",
    "out_str = \"\"\n",
    "\n",
    "for i in range(length):\n",
    "    out_str += input_str[length-1-i]\n",
    "\n",
    "print(out_str)"
   ]
  },
  {
   "cell_type": "markdown",
   "id": "1bbc84a6",
   "metadata": {},
   "source": [
    "### 6. Create a function that can add unlimited numbers (arguments)."
   ]
  },
  {
   "cell_type": "code",
   "execution_count": 28,
   "id": "beec0f38",
   "metadata": {},
   "outputs": [
    {
     "name": "stdout",
     "output_type": "stream",
     "text": [
      "6\n"
     ]
    }
   ],
   "source": [
    "def function_with_args(*args):\n",
    "    total = 0\n",
    "    for x in args:\n",
    "        total += x\n",
    "    return total\n",
    "\n",
    "result = function_with_args(1,2,3)\n",
    "print(result)"
   ]
  },
  {
   "cell_type": "code",
   "execution_count": 29,
   "id": "958a8c10",
   "metadata": {},
   "outputs": [
    {
     "name": "stdout",
     "output_type": "stream",
     "text": [
      "55\n"
     ]
    }
   ],
   "source": [
    "result = function_with_args(1,2,3,4,5,6,7,8,9,10)\n",
    "print(result)"
   ]
  },
  {
   "cell_type": "code",
   "execution_count": null,
   "id": "42945f47",
   "metadata": {},
   "outputs": [],
   "source": []
  }
 ],
 "metadata": {
  "kernelspec": {
   "display_name": "Python 3 (ipykernel)",
   "language": "python",
   "name": "python3"
  },
  "language_info": {
   "codemirror_mode": {
    "name": "ipython",
    "version": 3
   },
   "file_extension": ".py",
   "mimetype": "text/x-python",
   "name": "python",
   "nbconvert_exporter": "python",
   "pygments_lexer": "ipython3",
   "version": "3.11.0"
  }
 },
 "nbformat": 4,
 "nbformat_minor": 5
}
